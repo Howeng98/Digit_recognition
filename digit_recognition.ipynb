{
  "nbformat": 4,
  "nbformat_minor": 0,
  "metadata": {
    "colab": {
      "name": "Digit_recognition.ipynb",
      "provenance": [],
      "collapsed_sections": []
    },
    "kernelspec": {
      "name": "python3",
      "display_name": "Python 3"
    },
    "accelerator": "GPU"
  },
  "cells": [
    {
      "cell_type": "code",
      "metadata": {
        "id": "l47VsowWGQML"
      },
      "source": [
        "!pip install python-mnist\n",
        "!pip install keras"
      ],
      "execution_count": null,
      "outputs": []
    },
    {
      "cell_type": "code",
      "metadata": {
        "id": "S8F-rlUyH6ux"
      },
      "source": [
        "import tensorflow as tf\n",
        "from tensorflow.python.client import device_lib\n",
        "\n",
        "tf.test.gpu_device_name()\n",
        "device_lib.list_local_devices()\n",
        "# !cat /proc/meminfo"
      ],
      "execution_count": null,
      "outputs": []
    },
    {
      "cell_type": "code",
      "metadata": {
        "id": "UHNlBN5lFeUr",
        "outputId": "d9a54d20-18cd-413b-82c1-d1950a5242da",
        "colab": {
          "base_uri": "https://localhost:8080/",
          "height": 493
        }
      },
      "source": [
        "'''\n",
        "21/09/2020\n",
        "practice for project  - digit_recognition\n",
        "\n",
        "NOTE How to use shape method \n",
        "numpy.array可使用 shape。list不能使用shape。\n",
        "可以使用np.array(list A)进行转换。\n",
        "\n",
        "NOTE Ref\n",
        "#1 https://nextjournal.com/gkoehler/digit-recognition-with-keras\n",
        "#2 https://www.sitepoint.com/keras-digit-recognition-tutorial/\n",
        "\n",
        "'''\n",
        "\n",
        "import os\n",
        "import gzip\n",
        "import numpy as np\n",
        "import matplotlib.pyplot as plt\n",
        "from matplotlib import pyplot\n",
        "from tensorflow import keras\n",
        "from mnist import MNIST\n",
        "from keras.optimizers import SGD\n",
        "from keras.utils import np_utils\n",
        "from keras.models import load_model\n",
        "\n",
        "\n",
        "# Loading train and test data\n",
        "mndata = MNIST('drive/My Drive/Colab Notebooks/mnist')\n",
        "x_train, y_train = mndata.load_training()\n",
        "x_test, y_test   = mndata.load_testing()\n",
        "x_train = np.array(x_train).astype('float32')/255.0\n",
        "x_test = np.array(x_test).astype('float32')/255.0\n",
        "\n",
        "x_train = x_train.reshape(-1,28,28,1)\n",
        "x_test = x_test.reshape(-1,28,28,1)\n",
        "print(x_train.shape)\n",
        "print(x_test.shape)\n",
        "\n",
        "y_train = np_utils.to_categorical(y_train, 10)\n",
        "y_test  = np_utils.to_categorical(y_test, 10)\n",
        "\n",
        "# Variables\n",
        "batch_size = 128\n",
        "num_classes = 10\n",
        "epochs = 10\n",
        "\n",
        "\n",
        "# Setup model\n",
        "model = keras.Sequential()\n",
        "model.add(keras.layers.Conv2D(16, kernel_size=(3,3), activation='relu',input_shape=(28,28,1)))\n",
        "model.add(keras.layers.Conv2D(32, kernel_size=(5,5), activation='relu'))\n",
        "model.add(keras.layers.MaxPooling2D(pool_size=(2,2)))\n",
        "model.add(keras.layers.Dropout(0.25))\n",
        "model.add(keras.layers.Flatten())\n",
        "model.add(keras.layers.Dropout(0.5))\n",
        "model.add(keras.layers.Dense(128, activation='relu'))\n",
        "model.add(keras.layers.Dropout(0.5))\n",
        "model.add(keras.layers.Dense(num_classes, activation='softmax'))\n",
        "model.summary()"
      ],
      "execution_count": 47,
      "outputs": [
        {
          "output_type": "stream",
          "text": [
            "(60000, 28, 28, 1)\n",
            "(10000, 28, 28, 1)\n",
            "Model: \"sequential_7\"\n",
            "_________________________________________________________________\n",
            "Layer (type)                 Output Shape              Param #   \n",
            "=================================================================\n",
            "conv2d_13 (Conv2D)           (None, 26, 26, 16)        160       \n",
            "_________________________________________________________________\n",
            "conv2d_14 (Conv2D)           (None, 22, 22, 32)        12832     \n",
            "_________________________________________________________________\n",
            "max_pooling2d_6 (MaxPooling2 (None, 11, 11, 32)        0         \n",
            "_________________________________________________________________\n",
            "dropout_18 (Dropout)         (None, 11, 11, 32)        0         \n",
            "_________________________________________________________________\n",
            "flatten_6 (Flatten)          (None, 3872)              0         \n",
            "_________________________________________________________________\n",
            "dropout_19 (Dropout)         (None, 3872)              0         \n",
            "_________________________________________________________________\n",
            "dense_12 (Dense)             (None, 128)               495744    \n",
            "_________________________________________________________________\n",
            "dropout_20 (Dropout)         (None, 128)               0         \n",
            "_________________________________________________________________\n",
            "dense_13 (Dense)             (None, 10)                1290      \n",
            "=================================================================\n",
            "Total params: 510,026\n",
            "Trainable params: 510,026\n",
            "Non-trainable params: 0\n",
            "_________________________________________________________________\n"
          ],
          "name": "stdout"
        }
      ]
    },
    {
      "cell_type": "code",
      "metadata": {
        "id": "PA8vEMKeH2J-",
        "outputId": "0c3e21cd-9d07-407c-a101-efa76c681714",
        "colab": {
          "base_uri": "https://localhost:8080/",
          "height": 374
        }
      },
      "source": [
        "model.compile(loss='categorical_crossentropy', metrics=['accuracy'], optimizer='adam')\n",
        "history = model.fit(x_train, y_train, batch_size=batch_size, epochs=epochs, verbose=2, validation_data=(x_test,y_test))\n",
        "\n",
        "# saving the model\n",
        "save_dir = 'drive/My Drive/Colab Notebooks'\n",
        "model_name = 'keras_mnist.h5'\n",
        "model_path = os.path.join(save_dir, model_name)\n",
        "model.save(model_path)\n",
        "print('Saved trained model at %s ' % model_path)"
      ],
      "execution_count": 43,
      "outputs": [
        {
          "output_type": "stream",
          "text": [
            "Epoch 1/10\n",
            "469/469 - 3s - loss: 0.3027 - accuracy: 0.9045 - val_loss: 0.0622 - val_accuracy: 0.9808\n",
            "Epoch 2/10\n",
            "469/469 - 2s - loss: 0.1121 - accuracy: 0.9659 - val_loss: 0.0423 - val_accuracy: 0.9862\n",
            "Epoch 3/10\n",
            "469/469 - 2s - loss: 0.0860 - accuracy: 0.9739 - val_loss: 0.0357 - val_accuracy: 0.9883\n",
            "Epoch 4/10\n",
            "469/469 - 2s - loss: 0.0765 - accuracy: 0.9763 - val_loss: 0.0309 - val_accuracy: 0.9896\n",
            "Epoch 5/10\n",
            "469/469 - 2s - loss: 0.0674 - accuracy: 0.9800 - val_loss: 0.0278 - val_accuracy: 0.9899\n",
            "Epoch 6/10\n",
            "469/469 - 2s - loss: 0.0605 - accuracy: 0.9821 - val_loss: 0.0284 - val_accuracy: 0.9898\n",
            "Epoch 7/10\n",
            "469/469 - 2s - loss: 0.0577 - accuracy: 0.9822 - val_loss: 0.0279 - val_accuracy: 0.9904\n",
            "Epoch 8/10\n",
            "469/469 - 2s - loss: 0.0548 - accuracy: 0.9826 - val_loss: 0.0225 - val_accuracy: 0.9922\n",
            "Epoch 9/10\n",
            "469/469 - 2s - loss: 0.0487 - accuracy: 0.9846 - val_loss: 0.0241 - val_accuracy: 0.9920\n",
            "Epoch 10/10\n",
            "469/469 - 2s - loss: 0.0495 - accuracy: 0.9846 - val_loss: 0.0247 - val_accuracy: 0.9918\n",
            "Saved trained model at drive/My Drive/Colab Notebooks/keras_mnist.h5 \n"
          ],
          "name": "stdout"
        }
      ]
    },
    {
      "cell_type": "code",
      "metadata": {
        "id": "SWJY0wSYH93g",
        "outputId": "c5d4c6be-591c-43d5-f526-84514fc13ae2",
        "colab": {
          "base_uri": "https://localhost:8080/",
          "height": 51
        }
      },
      "source": [
        "model = load_model(\"drive/My Drive/Colab Notebooks/keras_mnist.h5\")\n",
        "test_loss, test_acc = model.evaluate(x_test,np.array(y_test))\n",
        "print('Test accuracy:', test_acc)"
      ],
      "execution_count": 44,
      "outputs": [
        {
          "output_type": "stream",
          "text": [
            "313/313 [==============================] - 1s 2ms/step - loss: 0.0247 - accuracy: 0.9918\n",
            "Test accuracy: 0.9918000102043152\n"
          ],
          "name": "stdout"
        }
      ]
    },
    {
      "cell_type": "code",
      "metadata": {
        "id": "8bsQPf-_sc6c",
        "outputId": "364556ef-a2e6-4376-ca78-3dcb390761b8",
        "colab": {
          "base_uri": "https://localhost:8080/",
          "height": 573
        }
      },
      "source": [
        "# Plotting the metrics\n",
        "fig = plt.figure()\n",
        "#plt.subplot(2,1,1)\n",
        "plt.plot()\n",
        "plt.plot(history.history['accuracy'])\n",
        "plt.plot(history.history['val_accuracy'])\n",
        "plt.title('model accuracy')\n",
        "plt.ylabel('accuracy')\n",
        "plt.xlabel('epoch')\n",
        "plt.legend(['train', 'test'], loc='lower right')\n",
        "plt.show()\n",
        "\n",
        "#plt.subplot(2,1,2)\n",
        "plt.plot()\n",
        "plt.plot(history.history['loss'])\n",
        "plt.plot(history.history['val_loss'])\n",
        "plt.title('model loss')\n",
        "plt.ylabel('loss')\n",
        "plt.xlabel('epoch')\n",
        "plt.legend(['train', 'test'], loc='upper right')\n",
        "plt.show()"
      ],
      "execution_count": 45,
      "outputs": [
        {
          "output_type": "display_data",
          "data": {
            "image/png": "[encoded data removed]",
            "text/plain": [
              "<Figure size 432x288 with 1 Axes>"
            ]
          },
          "metadata": {
            "tags": [],
            "needs_background": "light"
          }
        },
        {
          "output_type": "display_data",
          "data": {
            "image/png": "[encoded data removed]",
            "text/plain": [
              "<Figure size 432x288 with 1 Axes>"
            ]
          },
          "metadata": {
            "tags": [],
            "needs_background": "light"
          }
        }
      ]
    },
    {
      "cell_type": "code",
      "metadata": {
        "id": "lu0Ir-aJib4l",
        "outputId": "0096bad7-bf61-4988-f0d0-010f4975c179",
        "colab": {
          "base_uri": "https://localhost:8080/",
          "height": 299
        }
      },
      "source": [
        "from random import randint\n",
        "# Predict \n",
        "print(x_test.shape)\n",
        "index = randint(1,10)\n",
        "plt.imshow(x_test[index].squeeze())\n",
        "plt.show()\n",
        "\n",
        "pred = model.predict_classes(x_test[index].reshape(1,28,28,1))\n",
        "print(\"The predict output is:\",pred)"
      ],
      "execution_count": 46,
      "outputs": [
        {
          "output_type": "stream",
          "text": [
            "(10000, 28, 28, 1)\n"
          ],
          "name": "stdout"
        },
        {
          "output_type": "display_data",
          "data": {
            "image/png": "[encoded data removed]",
            "text/plain": [
              "<Figure size 432x288 with 1 Axes>"
            ]
          },
          "metadata": {
            "tags": [],
            "needs_background": "light"
          }
        },
        {
          "output_type": "stream",
          "text": [
            "The predict output is: [1]\n"
          ],
          "name": "stdout"
        }
      ]
    }
  ]
}